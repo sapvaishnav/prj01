{
 "cells": [
  {
   "cell_type": "code",
   "execution_count": 3,
   "metadata": {},
   "outputs": [],
   "source": [
    "import os\n",
    "import json\n",
    "import pandas as pd\n",
    "import traceback\n",
    "\n"
   ]
  },
  {
   "cell_type": "code",
   "execution_count": 23,
   "metadata": {},
   "outputs": [
    {
     "name": "stdout",
     "output_type": "stream",
     "text": [
      "sk-proj-qHCkjW3wWxipabSH8RzCT3BlbkFJbQ0GQkSVSmOxrW4GyiHL\n"
     ]
    }
   ],
   "source": [
    "from langchain.chat_models import ChatOpenAI\n",
    "from dotenv import load_dotenv\n",
    "load_dotenv()\n",
    "KEY=os.getenv(\"OPENAI_API_KEY\")\n",
    "print(KEY)\n",
    "\n"
   ]
  },
  {
   "cell_type": "code",
   "execution_count": 24,
   "metadata": {},
   "outputs": [],
   "source": [
    "llm=ChatOpenAI(openai_api_key=KEY,model_name=\"gpt-3.5-turbo\",temperature=0.5)"
   ]
  },
  {
   "cell_type": "code",
   "execution_count": 34,
   "metadata": {},
   "outputs": [],
   "source": [
    "from langchain.llms import OpenAI\n",
    "from langchain.prompts import PromptTemplate\n",
    "from langchain.chains import LLMChain\n",
    "from langchain.chains import SequentialChain\n",
    "from langchain.callbacks import get_openai_callback\n",
    "import PyPDF2\n"
   ]
  },
  {
   "cell_type": "code",
   "execution_count": 27,
   "metadata": {},
   "outputs": [],
   "source": [
    "RESPONSE_JSON = {\n",
    "    \"1\": {\n",
    "        \"mcq\": \"multiple choice question\",\n",
    "        \"options\": {\n",
    "            \"a\": \"choice here\",\n",
    "            \"b\": \"choice here\",\n",
    "            \"c\": \"choice here\",\n",
    "            \"d\": \"choice here\",\n",
    "        },\n",
    "        \"correct\": \"correct answer\",\n",
    "    },\n",
    "    \"2\": {\n",
    "        \"mcq\": \"multiple choice question\",\n",
    "        \"options\": {\n",
    "            \"a\": \"choice here\",\n",
    "            \"b\": \"choice here\",\n",
    "            \"c\": \"choice here\",\n",
    "            \"d\": \"choice here\",\n",
    "        },\n",
    "        \"correct\": \"correct answer\",\n",
    "    },\n",
    "    \"3\": {\n",
    "        \"mcq\": \"multiple choice question\",\n",
    "        \"options\": {\n",
    "            \"a\": \"choice here\",\n",
    "            \"b\": \"choice here\",\n",
    "            \"c\": \"choice here\",\n",
    "            \"d\": \"choice here\",\n",
    "        },\n",
    "        \"correct\": \"correct answer\",\n",
    "    },\n",
    "}"
   ]
  },
  {
   "cell_type": "code",
   "execution_count": 28,
   "metadata": {},
   "outputs": [],
   "source": [
    "TEMPLATE=\"\"\"\n",
    "Text:{text}\n",
    "You are an expert MCQ maker. Given the above text, it is your job to \\\n",
    "create a quiz  of {number} multiple choice questions for {subject} students in {tone} tone. \n",
    "Make sure the questions are not repeated and check all the questions to be conforming the text as well.\n",
    "Make sure to format your response like  RESPONSE_JSON below  and use it as a guide. \\\n",
    "Ensure to make {number} MCQs\n",
    "### RESPONSE_JSON\n",
    "{response_json}\n",
    "\n",
    "\"\"\""
   ]
  },
  {
   "cell_type": "code",
   "execution_count": 29,
   "metadata": {},
   "outputs": [],
   "source": [
    "quiz_generation_prompt = PromptTemplate(\n",
    "    input_variables=[\"text\", \"number\", \"subject\", \"tone\", \"response_json\"],\n",
    "    template=TEMPLATE\n",
    "    )\n"
   ]
  },
  {
   "cell_type": "code",
   "execution_count": 30,
   "metadata": {},
   "outputs": [],
   "source": [
    "quiz_chain=LLMChain(llm=llm, prompt=quiz_generation_prompt, output_key=\"quiz\", verbose=True)"
   ]
  },
  {
   "cell_type": "code",
   "execution_count": 31,
   "metadata": {},
   "outputs": [],
   "source": [
    "TEMPLATE2=\"\"\"\n",
    "You are an expert english grammarian and writer. Given a Multiple Choice Quiz for {subject} students.\\\n",
    "You need to evaluate the complexity of the question and give a complete analysis of the quiz. Only use at max 50 words for complexity analysis. \n",
    "if the quiz is not at per with the cognitive and analytical abilities of the students,\\\n",
    "update the quiz questions which needs to be changed and change the tone such that it perfectly fits the student abilities\n",
    "Quiz_MCQs:\n",
    "{quiz}\n",
    "\n",
    "Check from an expert English Writer of the above quiz:\n",
    "\"\"\"\n"
   ]
  },
  {
   "cell_type": "code",
   "execution_count": 32,
   "metadata": {},
   "outputs": [],
   "source": [
    "quiz_evaluation_prompt=PromptTemplate(input_variables=[\"subject\", \"quiz\"], template=TEMPLATE)\n",
    "review_chain=LLMChain(llm=llm, prompt=quiz_evaluation_prompt, output_key=\"review\", verbose=True)"
   ]
  },
  {
   "cell_type": "code",
   "execution_count": 35,
   "metadata": {},
   "outputs": [],
   "source": [
    "generate_evaluate_chain=SequentialChain(chains=[quiz_chain, review_chain], input_variables=[\"text\", \"number\", \"subject\", \"tone\", \"response_json\"],\n",
    "                                        output_variables=[\"quiz\", \"review\"], verbose=True,)"
   ]
  },
  {
   "cell_type": "code",
   "execution_count": 36,
   "metadata": {},
   "outputs": [
    {
     "name": "stdout",
     "output_type": "stream",
     "text": [
      "Rahul Dravid, often referred to as \"The Wall\" of Indian cricket, is celebrated as one of the most technically proficient and mentally resilient batsmen in the history of the game. Born on January 11, 1973, in Indore, India, Dravid's cricketing journey is marked by his unwavering dedication, classical batting technique, and a career that spanned over a decade and a half, making him a legendary figure in the cricketing world.\n",
      "\n",
      "Dravid made his Test debut for India on June 20, 1996, against England at Lord's. His debut innings of 95 runs showcased his immense potential and technical soundness. Over the years, he built a reputation as a reliable and consistent batsman, particularly in Test cricket. Known for his ability to anchor the innings, Dravid often played the role of a stabilizer in the Indian batting lineup, allowing more aggressive players to flourish around him.\n",
      "\n",
      "One of the defining features of Dravid's career was his ability to adapt to different formats of the game. While he was predominantly known for his exploits in Test cricket, where he amassed over 13,000 runs at an average of 52.63, he also made significant contributions in One Day Internationals (ODIs). Dravid scored more than 10,000 runs in ODIs and was known for his ability to play the sheet-anchor role, rotating the strike and building partnerships. His versatility was further exemplified when he took on the role of wicketkeeper-batsman during the early 2000s, allowing India to field an extra batsman.\n"
     ]
    }
   ],
   "source": [
    "file_path=\"D:\\Sachin Learning\\Genrative AI\\prj01\\data.txt\"\n",
    "with open(file_path, 'r') as file:\n",
    "    TEXT = file.read()\n",
    "print(TEXT)"
   ]
  },
  {
   "cell_type": "code",
   "execution_count": 37,
   "metadata": {},
   "outputs": [
    {
     "data": {
      "text/plain": [
       "'{\"1\": {\"mcq\": \"multiple choice question\", \"options\": {\"a\": \"choice here\", \"b\": \"choice here\", \"c\": \"choice here\", \"d\": \"choice here\"}, \"correct\": \"correct answer\"}, \"2\": {\"mcq\": \"multiple choice question\", \"options\": {\"a\": \"choice here\", \"b\": \"choice here\", \"c\": \"choice here\", \"d\": \"choice here\"}, \"correct\": \"correct answer\"}, \"3\": {\"mcq\": \"multiple choice question\", \"options\": {\"a\": \"choice here\", \"b\": \"choice here\", \"c\": \"choice here\", \"d\": \"choice here\"}, \"correct\": \"correct answer\"}}'"
      ]
     },
     "execution_count": 37,
     "metadata": {},
     "output_type": "execute_result"
    }
   ],
   "source": [
    "json.dumps(RESPONSE_JSON)"
   ]
  },
  {
   "cell_type": "code",
   "execution_count": 39,
   "metadata": {},
   "outputs": [],
   "source": [
    "NUMBER=5 \n",
    "SUBJECT=\"Cricket\"\n",
    "TONE=\"simple\""
   ]
  },
  {
   "cell_type": "code",
   "execution_count": 40,
   "metadata": {},
   "outputs": [
    {
     "name": "stdout",
     "output_type": "stream",
     "text": [
      "\n",
      "\n",
      "\u001b[1m> Entering new SequentialChain chain...\u001b[0m\n",
      "\n",
      "\n",
      "\u001b[1m> Entering new LLMChain chain...\u001b[0m\n",
      "Prompt after formatting:\n",
      "\u001b[32;1m\u001b[1;3m\n",
      "Text:Rahul Dravid, often referred to as \"The Wall\" of Indian cricket, is celebrated as one of the most technically proficient and mentally resilient batsmen in the history of the game. Born on January 11, 1973, in Indore, India, Dravid's cricketing journey is marked by his unwavering dedication, classical batting technique, and a career that spanned over a decade and a half, making him a legendary figure in the cricketing world.\n",
      "\n",
      "Dravid made his Test debut for India on June 20, 1996, against England at Lord's. His debut innings of 95 runs showcased his immense potential and technical soundness. Over the years, he built a reputation as a reliable and consistent batsman, particularly in Test cricket. Known for his ability to anchor the innings, Dravid often played the role of a stabilizer in the Indian batting lineup, allowing more aggressive players to flourish around him.\n",
      "\n",
      "One of the defining features of Dravid's career was his ability to adapt to different formats of the game. While he was predominantly known for his exploits in Test cricket, where he amassed over 13,000 runs at an average of 52.63, he also made significant contributions in One Day Internationals (ODIs). Dravid scored more than 10,000 runs in ODIs and was known for his ability to play the sheet-anchor role, rotating the strike and building partnerships. His versatility was further exemplified when he took on the role of wicketkeeper-batsman during the early 2000s, allowing India to field an extra batsman.\n",
      "You are an expert MCQ maker. Given the above text, it is your job to create a quiz  of 5 multiple choice questions for Cricket students in simple tone. \n",
      "Make sure the questions are not repeated and check all the questions to be conforming the text as well.\n",
      "Make sure to format your response like  RESPONSE_JSON below  and use it as a guide. Ensure to make 5 MCQs\n",
      "### RESPONSE_JSON\n",
      "{\"1\": {\"mcq\": \"multiple choice question\", \"options\": {\"a\": \"choice here\", \"b\": \"choice here\", \"c\": \"choice here\", \"d\": \"choice here\"}, \"correct\": \"correct answer\"}, \"2\": {\"mcq\": \"multiple choice question\", \"options\": {\"a\": \"choice here\", \"b\": \"choice here\", \"c\": \"choice here\", \"d\": \"choice here\"}, \"correct\": \"correct answer\"}, \"3\": {\"mcq\": \"multiple choice question\", \"options\": {\"a\": \"choice here\", \"b\": \"choice here\", \"c\": \"choice here\", \"d\": \"choice here\"}, \"correct\": \"correct answer\"}}\n",
      "\n",
      "\u001b[0m\n",
      "\n",
      "\u001b[1m> Finished chain.\u001b[0m\n",
      "\n",
      "\n",
      "\u001b[1m> Entering new LLMChain chain...\u001b[0m\n",
      "Prompt after formatting:\n",
      "\u001b[32;1m\u001b[1;3m\n",
      "Text:Rahul Dravid, often referred to as \"The Wall\" of Indian cricket, is celebrated as one of the most technically proficient and mentally resilient batsmen in the history of the game. Born on January 11, 1973, in Indore, India, Dravid's cricketing journey is marked by his unwavering dedication, classical batting technique, and a career that spanned over a decade and a half, making him a legendary figure in the cricketing world.\n",
      "\n",
      "Dravid made his Test debut for India on June 20, 1996, against England at Lord's. His debut innings of 95 runs showcased his immense potential and technical soundness. Over the years, he built a reputation as a reliable and consistent batsman, particularly in Test cricket. Known for his ability to anchor the innings, Dravid often played the role of a stabilizer in the Indian batting lineup, allowing more aggressive players to flourish around him.\n",
      "\n",
      "One of the defining features of Dravid's career was his ability to adapt to different formats of the game. While he was predominantly known for his exploits in Test cricket, where he amassed over 13,000 runs at an average of 52.63, he also made significant contributions in One Day Internationals (ODIs). Dravid scored more than 10,000 runs in ODIs and was known for his ability to play the sheet-anchor role, rotating the strike and building partnerships. His versatility was further exemplified when he took on the role of wicketkeeper-batsman during the early 2000s, allowing India to field an extra batsman.\n",
      "You are an expert MCQ maker. Given the above text, it is your job to create a quiz  of 5 multiple choice questions for Cricket students in simple tone. \n",
      "Make sure the questions are not repeated and check all the questions to be conforming the text as well.\n",
      "Make sure to format your response like  RESPONSE_JSON below  and use it as a guide. Ensure to make 5 MCQs\n",
      "### RESPONSE_JSON\n",
      "{\"1\": {\"mcq\": \"multiple choice question\", \"options\": {\"a\": \"choice here\", \"b\": \"choice here\", \"c\": \"choice here\", \"d\": \"choice here\"}, \"correct\": \"correct answer\"}, \"2\": {\"mcq\": \"multiple choice question\", \"options\": {\"a\": \"choice here\", \"b\": \"choice here\", \"c\": \"choice here\", \"d\": \"choice here\"}, \"correct\": \"correct answer\"}, \"3\": {\"mcq\": \"multiple choice question\", \"options\": {\"a\": \"choice here\", \"b\": \"choice here\", \"c\": \"choice here\", \"d\": \"choice here\"}, \"correct\": \"correct answer\"}}\n",
      "\n",
      "\u001b[0m\n",
      "\n",
      "\u001b[1m> Finished chain.\u001b[0m\n",
      "\n",
      "\u001b[1m> Finished chain.\u001b[0m\n"
     ]
    }
   ],
   "source": [
    "#https://python.langchain.com/docs/modules/model_io/llms/token_usage_tracking\n",
    "\n",
    "#How to setup Token Usage Tracking in LangChain\n",
    "with get_openai_callback() as cb:\n",
    "    response=generate_evaluate_chain(\n",
    "        {\n",
    "            \"text\": TEXT,\n",
    "            \"number\": NUMBER,\n",
    "            \"subject\":SUBJECT,\n",
    "            \"tone\": TONE,\n",
    "            \"response_json\": json.dumps(RESPONSE_JSON)\n",
    "        }\n",
    "        )\n"
   ]
  },
  {
   "cell_type": "code",
   "execution_count": 41,
   "metadata": {},
   "outputs": [
    {
     "name": "stdout",
     "output_type": "stream",
     "text": [
      "Total Tokens:2012\n",
      "Prompt Tokens:1156\n",
      "Completion Tokens:856\n",
      "Total Cost:0.003446\n"
     ]
    }
   ],
   "source": [
    "print(f\"Total Tokens:{cb.total_tokens}\")\n",
    "print(f\"Prompt Tokens:{cb.prompt_tokens}\")\n",
    "print(f\"Completion Tokens:{cb.completion_tokens}\")\n",
    "print(f\"Total Cost:{cb.total_cost}\")"
   ]
  },
  {
   "cell_type": "code",
   "execution_count": 44,
   "metadata": {},
   "outputs": [
    {
     "name": "stdout",
     "output_type": "stream",
     "text": [
      "{'1': {'mcq': 'What is Rahul Dravid often referred to as in Indian cricket?', 'options': {'a': 'The Rocket', 'b': 'The Wall', 'c': 'The Flash', 'd': 'The Beast'}, 'correct': 'b'}, '2': {'mcq': 'When did Rahul Dravid make his Test debut for India?', 'options': {'a': 'June 20, 1996', 'b': 'January 11, 1973', 'c': 'July 4, 2000', 'd': 'March 15, 1985'}, 'correct': 'a'}, '3': {'mcq': \"What is one of the defining features of Dravid's career?\", 'options': {'a': 'His aggressive batting style', 'b': 'His ability to bowl spin', 'c': 'His adaptability to different formats of the game', 'd': 'His fast bowling skills'}, 'correct': 'c'}, '4': {'mcq': 'In which cricket format did Dravid amass over 13,000 runs at an average of 52.63?', 'options': {'a': 'T20 cricket', 'b': 'One Day Internationals (ODIs)', 'c': 'Test cricket', 'd': 'County cricket'}, 'correct': 'c'}, '5': {'mcq': 'What role did Rahul Dravid take on during the early 2000s to help India field an extra batsman?', 'options': {'a': 'Opening batsman', 'b': 'Wicketkeeper-batsman', 'c': 'Fast bowler', 'd': 'Leg spinner'}, 'correct': 'b'}}\n"
     ]
    }
   ],
   "source": [
    "\n",
    "quiz=response.get(\"quiz\")\n",
    "quiz=json.loads(quiz)\n",
    "print(quiz)"
   ]
  },
  {
   "cell_type": "code",
   "execution_count": 46,
   "metadata": {},
   "outputs": [
    {
     "name": "stdout",
     "output_type": "stream",
     "text": [
      "[{'MCQ': 'What is Rahul Dravid often referred to as in Indian cricket?', 'Choices': 'a: The Rocket | b: The Wall | c: The Flash | d: The Beast', 'Correct': 'b'}, {'MCQ': 'When did Rahul Dravid make his Test debut for India?', 'Choices': 'a: June 20, 1996 | b: January 11, 1973 | c: July 4, 2000 | d: March 15, 1985', 'Correct': 'a'}, {'MCQ': \"What is one of the defining features of Dravid's career?\", 'Choices': 'a: His aggressive batting style | b: His ability to bowl spin | c: His adaptability to different formats of the game | d: His fast bowling skills', 'Correct': 'c'}, {'MCQ': 'In which cricket format did Dravid amass over 13,000 runs at an average of 52.63?', 'Choices': 'a: T20 cricket | b: One Day Internationals (ODIs) | c: Test cricket | d: County cricket', 'Correct': 'c'}, {'MCQ': 'What role did Rahul Dravid take on during the early 2000s to help India field an extra batsman?', 'Choices': 'a: Opening batsman | b: Wicketkeeper-batsman | c: Fast bowler | d: Leg spinner', 'Correct': 'b'}]\n"
     ]
    }
   ],
   "source": [
    "quiz_table_data = []\n",
    "for key, value in quiz.items():\n",
    "    mcq = value[\"mcq\"]\n",
    "    options = \" | \".join(\n",
    "        [\n",
    "            f\"{option}: {option_value}\"\n",
    "            for option, option_value in value[\"options\"].items()\n",
    "            ]\n",
    "        )\n",
    "    correct = value[\"correct\"]\n",
    "    quiz_table_data.append({\"MCQ\": mcq, \"Choices\": options, \"Correct\": correct})\n",
    "print(quiz_table_data)"
   ]
  },
  {
   "cell_type": "code",
   "execution_count": 47,
   "metadata": {},
   "outputs": [],
   "source": [
    "quiz=pd.DataFrame(quiz_table_data)\n",
    "quiz.to_csv(\"machinelearning.csv\",index=False)"
   ]
  }
 ],
 "metadata": {
  "kernelspec": {
   "display_name": "Python 3",
   "language": "python",
   "name": "python3"
  },
  "language_info": {
   "codemirror_mode": {
    "name": "ipython",
    "version": 3
   },
   "file_extension": ".py",
   "mimetype": "text/x-python",
   "name": "python",
   "nbconvert_exporter": "python",
   "pygments_lexer": "ipython3",
   "version": "3.8.19"
  }
 },
 "nbformat": 4,
 "nbformat_minor": 2
}
